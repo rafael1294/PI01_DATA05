{
 "cells": [
  {
   "cell_type": "code",
   "execution_count": 2,
   "metadata": {},
   "outputs": [],
   "source": [
    "import pandas as pd\n",
    "import numpy as np"
   ]
  },
  {
   "cell_type": "code",
   "execution_count": 3,
   "metadata": {},
   "outputs": [],
   "source": [
    "# Importamos la data de las plataformas presentadas en la Datasets y agregamos la columna Id_Plataform para identificar \n",
    "# cada plataforma\n",
    "data1 = pd.read_csv(\"./Datasets/amazon_prime_titles.csv\",encoding=\"utf-8\")\n",
    "data1.insert(loc=1, column=\"Id_Plataform\", value=1)\n",
    "\n",
    "data2 = pd.read_csv(\"./Datasets/disney_plus_titles.csv\",encoding=\"utf-8\")\n",
    "data2.insert(loc=1, column=\"Id_Plataform\", value=2)\n",
    "\n",
    "data3 = pd.read_csv(\"./Datasets/hulu_titles.csv\",encoding=\"utf-8\")\n",
    "data3.insert(loc=1, column=\"Id_Plataform\", value=3)\n",
    "\n",
    "data4 = pd.read_json(\"./Datasets/netflix_titles.json\",encoding=\"utf-8\")\n",
    "data4.insert(loc=1, column=\"Id_Plataform\", value=4)"
   ]
  },
  {
   "cell_type": "code",
   "execution_count": 4,
   "metadata": {},
   "outputs": [],
   "source": [
    "# Unimos la data en una sola tabla y además eliminamos las columnas que no serán de utilidad para las \n",
    "# consignas indicadas\n",
    "df=pd.concat([data1,data2,data3,data4],ignore_index=True)\n",
    "df.drop(columns=[\"show_id\",\"director\",\"date_added\",\"rating\",\"description\",\"country\"], axis = 1, inplace=True)"
   ]
  },
  {
   "cell_type": "code",
   "execution_count": 5,
   "metadata": {},
   "outputs": [],
   "source": [
    "# Reemplazamos los valores nan\n",
    "df.replace(np.nan,\"\",inplace=True)\n"
   ]
  },
  {
   "cell_type": "code",
   "execution_count": 6,
   "metadata": {},
   "outputs": [],
   "source": [
    "# Generamos una nueva tabla Id_Producción para hacer único los títulos, por tipo y año de estreno\n",
    "df[\"Id_Producción\"]=df[\"release_year\"].apply(str)+\"-\"+df[\"title\"]+\"-\"+df[\"type\"]"
   ]
  },
  {
   "cell_type": "code",
   "execution_count": 7,
   "metadata": {},
   "outputs": [
    {
     "data": {
      "text/plain": [
       "Id_Plataform        0\n",
       "type                0\n",
       "title               0\n",
       "cast             5321\n",
       "release_year        0\n",
       "duration          482\n",
       "listed_in           0\n",
       "Id_Producción       0\n",
       "dtype: int64"
      ]
     },
     "execution_count": 7,
     "metadata": {},
     "output_type": "execute_result"
    }
   ],
   "source": [
    "# Contabilizamos los datos vacios\n",
    "df[df==\"\"].count()"
   ]
  },
  {
   "cell_type": "code",
   "execution_count": 8,
   "metadata": {},
   "outputs": [],
   "source": [
    "# Reemplazamos los datos vacios en cast por algun duplicado con el mismo Id_Producción\n",
    "for i in df[df[\"cast\"]==\"\"].index: #df[df[\"cast\"]==\"\"].index nos da una lista con indices de vacio para la columna cast\n",
    "    for j in df[df[\"Id_Producción\"].duplicated(False)].index:#df[df[\"Id_Producción\"].duplicated(False)].index nos da una lista con indices duplicados sin excluir los primeros encontrados.\n",
    "        if i!=j and  df.loc[j,\"cast\"]!=\"\" and df.loc[i,\"Id_Producción\"]==df.loc[j,\"Id_Producción\"]:\n",
    "            df.loc[i,\"cast\"]=df.loc[j,\"cast\"]\n",
    "            break"
   ]
  },
  {
   "cell_type": "code",
   "execution_count": 9,
   "metadata": {},
   "outputs": [],
   "source": [
    "# Reemplazamos los datos vacios en duration por algun duplicado con el mismo Id_Producción\n",
    "for i in df[df[\"duration\"]==\"\"].index: #df[df[\"duration\"]==\"\"].index nos da una lista con indices de vacio para la columna cast\n",
    "    for j in df[df[\"Id_Producción\"].duplicated(False)].index:#df[df[\"Id_Producción\"].duplicated(False)].index nos da una lista con indices duplicados sin excluir los primeros encontrados.\n",
    "        if i!=j and  df.loc[j,\"duration\"]!=\"\" and df.loc[i,\"Id_Producción\"]==df.loc[j,\"Id_Producción\"]:\n",
    "            df.loc[i,\"duration\"]=df.loc[j,\"duration\"]\n",
    "            break"
   ]
  },
  {
   "cell_type": "code",
   "execution_count": 10,
   "metadata": {},
   "outputs": [
    {
     "data": {
      "text/plain": [
       "Id_Plataform        0\n",
       "type                0\n",
       "title               0\n",
       "cast             5146\n",
       "release_year        0\n",
       "duration          451\n",
       "listed_in           0\n",
       "Id_Producción       0\n",
       "dtype: int64"
      ]
     },
     "execution_count": 10,
     "metadata": {},
     "output_type": "execute_result"
    }
   ],
   "source": [
    "# Consultamos la cantidad de datos vacios nuevamente y verficamos una disminución de estos\n",
    "df[df==\"\"].count()"
   ]
  },
  {
   "cell_type": "code",
   "execution_count": 11,
   "metadata": {},
   "outputs": [],
   "source": [
    "# Generamos la tabla dfcast atomizando los datos de la columna cast para la normalizacion F1\n",
    "dfcast=df.loc[:,(\"Id_Plataform\",\"Id_Producción\",\"cast\")]\n",
    "a=[]\n",
    "b=[]\n",
    "c=[]\n",
    "for i in range(0,len(dfcast.iloc[:,2])):\n",
    "    if \",\" in dfcast.iloc[i,2]:\n",
    "        for j in list(dfcast.iloc[i,2].split(\",\")):\n",
    "            a.append(dfcast.iloc[i,0])\n",
    "            b.append(dfcast.iloc[i,1])\n",
    "            c.append(j)\n",
    "    else:\n",
    "        a.append(dfcast.iloc[i,0])\n",
    "        b.append(dfcast.iloc[i,1])\n",
    "        c.append(dfcast.iloc[i,2])\n",
    "\n",
    "c=list(map(str.strip,c))\n",
    "dfcast=pd.DataFrame({\"Id_Plataform\":a,\n",
    "                \"Id_Producción\":b,\n",
    "                \"cast\":c})"
   ]
  },
  {
   "cell_type": "code",
   "execution_count": 12,
   "metadata": {},
   "outputs": [
    {
     "name": "stdout",
     "output_type": "stream",
     "text": [
      "<class 'pandas.core.frame.DataFrame'>\n",
      "RangeIndex: 120866 entries, 0 to 120865\n",
      "Data columns (total 3 columns):\n",
      " #   Column         Non-Null Count   Dtype \n",
      "---  ------         --------------   ----- \n",
      " 0   Id_Plataform   120866 non-null  int64 \n",
      " 1   Id_Producción  120866 non-null  object\n",
      " 2   cast           120866 non-null  object\n",
      "dtypes: int64(1), object(2)\n",
      "memory usage: 2.8+ MB\n"
     ]
    }
   ],
   "source": [
    "# Eliminamos los duplicados de la tabla dfcast\n",
    "dfcast.drop_duplicates(inplace=True)\n",
    "dfcast.reset_index(inplace=True,drop=True)\n",
    "dfcast.info()"
   ]
  },
  {
   "cell_type": "code",
   "execution_count": 17,
   "metadata": {},
   "outputs": [],
   "source": [
    "# Generamos la tabla dflisted atomizando los datos de la columna listed_in para la normalizacion F1\n",
    "dflisted=df.loc[:,(\"Id_Plataform\",\"Id_Producción\",\"listed_in\")]\n",
    "a=[]\n",
    "b=[]\n",
    "c=[]\n",
    "for i in range(0,len(dflisted.iloc[:,2])):\n",
    "    if \",\" in dflisted.iloc[i,2]:\n",
    "        for j in list(dflisted.iloc[i,2].split(\",\")):\n",
    "            a.append(dflisted.iloc[i,0])\n",
    "            b.append(dflisted.iloc[i,1])\n",
    "            c.append(j)\n",
    "    else:\n",
    "        a.append(dflisted.iloc[i,0])\n",
    "        b.append(dflisted.iloc[i,1])\n",
    "        c.append(dflisted.iloc[i,2])\n",
    "\n",
    "c=list(map(str.strip,c))\n",
    "dflisted=pd.DataFrame({\"Id_Plataform\":a,\n",
    "                \"Id_Producción\":b,\n",
    "                \"listed_in\":c})\n"
   ]
  },
  {
   "cell_type": "code",
   "execution_count": 18,
   "metadata": {},
   "outputs": [
    {
     "name": "stdout",
     "output_type": "stream",
     "text": [
      "<class 'pandas.core.frame.DataFrame'>\n",
      "RangeIndex: 48303 entries, 0 to 48302\n",
      "Data columns (total 3 columns):\n",
      " #   Column         Non-Null Count  Dtype \n",
      "---  ------         --------------  ----- \n",
      " 0   Id_Plataform   48303 non-null  int64 \n",
      " 1   Id_Producción  48303 non-null  object\n",
      " 2   listed_in      48303 non-null  object\n",
      "dtypes: int64(1), object(2)\n",
      "memory usage: 1.1+ MB\n"
     ]
    }
   ],
   "source": [
    "# Eliminamos los duplicados de la tabla dflisted\n",
    "dflisted.drop_duplicates(inplace=True)\n",
    "dflisted.reset_index(inplace=True,drop=True)\n",
    "dflisted.info()"
   ]
  },
  {
   "cell_type": "code",
   "execution_count": 19,
   "metadata": {},
   "outputs": [
    {
     "name": "stdout",
     "output_type": "stream",
     "text": [
      "<class 'pandas.core.frame.DataFrame'>\n",
      "RangeIndex: 22998 entries, 0 to 22997\n",
      "Data columns (total 5 columns):\n",
      " #   Column        Non-Null Count  Dtype \n",
      "---  ------        --------------  ----- \n",
      " 0   Id_Plataform  22998 non-null  int64 \n",
      " 1   title         22998 non-null  object\n",
      " 2   type          22998 non-null  object\n",
      " 3   release_year  22998 non-null  int64 \n",
      " 4   duration      22998 non-null  object\n",
      "dtypes: int64(2), object(3)\n",
      "memory usage: 898.5+ KB\n"
     ]
    }
   ],
   "source": [
    "# Generamos la tabla dfFilm\n",
    "dfFilm=df.loc[:,(\"Id_Plataform\",\"title\",\"type\",\"release_year\",\"duration\")]\n",
    "dfFilm.drop_duplicates(inplace=True)\n",
    "dfFilm.reset_index(inplace=True,drop=True)\n",
    "dfFilm.info()\n"
   ]
  },
  {
   "cell_type": "code",
   "execution_count": 20,
   "metadata": {},
   "outputs": [
    {
     "data": {
      "text/html": [
       "<div>\n",
       "<style scoped>\n",
       "    .dataframe tbody tr th:only-of-type {\n",
       "        vertical-align: middle;\n",
       "    }\n",
       "\n",
       "    .dataframe tbody tr th {\n",
       "        vertical-align: top;\n",
       "    }\n",
       "\n",
       "    .dataframe thead th {\n",
       "        text-align: right;\n",
       "    }\n",
       "</style>\n",
       "<table border=\"1\" class=\"dataframe\">\n",
       "  <thead>\n",
       "    <tr style=\"text-align: right;\">\n",
       "      <th></th>\n",
       "      <th>Id_Plataform</th>\n",
       "      <th>Plataforma</th>\n",
       "    </tr>\n",
       "  </thead>\n",
       "  <tbody>\n",
       "    <tr>\n",
       "      <th>0</th>\n",
       "      <td>1</td>\n",
       "      <td>amazon</td>\n",
       "    </tr>\n",
       "    <tr>\n",
       "      <th>1</th>\n",
       "      <td>2</td>\n",
       "      <td>disney</td>\n",
       "    </tr>\n",
       "    <tr>\n",
       "      <th>2</th>\n",
       "      <td>3</td>\n",
       "      <td>hulu</td>\n",
       "    </tr>\n",
       "    <tr>\n",
       "      <th>3</th>\n",
       "      <td>4</td>\n",
       "      <td>netflix</td>\n",
       "    </tr>\n",
       "  </tbody>\n",
       "</table>\n",
       "</div>"
      ],
      "text/plain": [
       "   Id_Plataform Plataforma\n",
       "0             1     amazon\n",
       "1             2     disney\n",
       "2             3       hulu\n",
       "3             4    netflix"
      ]
     },
     "execution_count": 20,
     "metadata": {},
     "output_type": "execute_result"
    }
   ],
   "source": [
    "# Generamos la tabla DfPlataformas.\n",
    "dfPlataformas=pd.DataFrame({\"Id_Plataform\":[1,2,3,4],\n",
    "                            \"Plataforma\":[\"amazon\",\"disney\",\"hulu\",\"netflix\"]\n",
    "                            })\n",
    "dfPlataformas.head()"
   ]
  },
  {
   "cell_type": "code",
   "execution_count": 65,
   "metadata": {},
   "outputs": [],
   "source": [
    "# Creamos los archivos csv de la data \n",
    "dfPlataformas.to_csv(\"Tablas/dfPlataformas.csv\")\n",
    "dfFilm.to_csv(\"Tablas/dfFilm.csv\")\n",
    "dfcast.to_csv(\"Tablas/dfcast.csv\")\n",
    "dflisted.to_csv(\"Tablas/dflisted.csv\")"
   ]
  },
  {
   "cell_type": "code",
   "execution_count": 3,
   "metadata": {},
   "outputs": [],
   "source": [
    "from fastapi import FastAPI\n",
    "from starlette.responses import RedirectResponse\n",
    "import pymysql\n",
    "\n",
    "app = FastAPI()\n",
    "\n",
    "\n",
    "def conectar_a_base_de_datos() :\n",
    "    conexion = pymysql.connect(\n",
    "    host = 'localhost',\n",
    "    user = 'root',\n",
    "    passwd = 'mysql123M',\n",
    "    db= 'pi',\n",
    "    port= 3306\n",
    "    )\n",
    "    return conexion.cursor()\n",
    "\n",
    "\n",
    "#1 Funcion que recibe año y plataforma y tipo de tiempo y retorna la pelicula o serie y su duracion maxima.\n",
    "def max(anio,plataforma,time):\n",
    "    cursor=conectar_a_base_de_datos()\n",
    "    a=[]\n",
    "    p=0\n",
    "    anio=str(anio)\n",
    "    if plataforma == \"amazon\":\n",
    "        p = 1\n",
    "    elif plataforma == \"disney\":\n",
    "        p = 2\n",
    "    elif plataforma == \"hulu\":\n",
    "        p = 3\n",
    "    elif plataforma == \"netflix\":\n",
    "        p = 4\n",
    "    else:\n",
    "        \"Inserte: amazon, disney, hulu o netflix\"\n",
    "    p=str(p) \n",
    "    if time==\"min\":\n",
    "        query=\"select Id_Plataform, title, release_year, convert(SUBSTRING_INDEX(duration,' ', 1), UNSIGNED INTEGER)  AS tiempo, \\\n",
    "        SUBSTRING_INDEX(duration,' ', -1) as Unidades \\\n",
    "        from dffilm \\\n",
    "        where release_year = \"+anio+\" and Id_Plataform = '\"+p+\"' and SUBSTRING_INDEX(duration,' ', -1) like 'min%' \\\n",
    "        order by 4 desc \\\n",
    "        limit 1\"\n",
    "        cursor.execute(query)\n",
    "    elif time==\"season\":\n",
    "        query=\"select Id_Plataform, title, release_year, convert(SUBSTRING_INDEX(duration,' ', 1), UNSIGNED INTEGER)  AS tiempo, \\\n",
    "        SUBSTRING_INDEX(duration,' ', -1) as Unidades \\\n",
    "        from dffilm \\\n",
    "        where release_year = \"+anio+\" and Id_Plataform = '\"+p+\"' and SUBSTRING_INDEX(duration,' ', -1) like 'Season%' \\\n",
    "        order by 4 desc \\\n",
    "        limit 1\"\n",
    "        cursor.execute(query)\n",
    "    else:\n",
    "        return \"Inserte [min] o [season] en el tercer parametro\"\n",
    "\n",
    "    for dato in cursor:\n",
    "        a.append(dato)\n",
    "    \n",
    "    return a\n",
    "def cant(plataforma):\n",
    "    cursor=conectar_a_base_de_datos()\n",
    "    a=[]\n",
    "    p=0\n",
    "    if plataforma == \"amazon\":\n",
    "        p = 1\n",
    "    elif plataforma == \"disney\":\n",
    "        p = 2\n",
    "    elif plataforma == \"hulu\":\n",
    "        p = 3\n",
    "    elif plataforma == \"netflix\":\n",
    "        p = 4\n",
    "    else:\n",
    "        \"Inserte: amazon, disney, hulu o netflix\"\n",
    "    p=str(p)\n",
    "    cursor.execute(\"SELECT Id_PLataform, type ,count(*) as Cantidad \\\n",
    "    FROM dffilm \\\n",
    "    where Id_Plataform = '\"+p+\"' \\\n",
    "    group by Id_Plataform, type\")\n",
    "    for dato in cursor:\n",
    "        a.append(dato)\n",
    "    \n",
    "    return a\n",
    "def gen(genero):\n",
    "    cursor=conectar_a_base_de_datos()\n",
    "    a=[]\n",
    "    query=\"SELECT Id_Plataform, listed_in, count(*) AS Cantidad\\\n",
    "    FROM dflisted \\\n",
    "    WHERE listed_in LIKE '\"+genero+\"' \\\n",
    "    GROUP BY Id_Plataform, listed_in \\\n",
    "    HAVING listed_in !='' \\\n",
    "    ORDER BY 3 DESC \\\n",
    "    LIMIT 1\"\n",
    "    cursor.execute(query)\n",
    "    for dato in cursor:\n",
    "        a.append(dato)\n",
    "    \n",
    "    return a\n",
    "def act(plataforma,anio):\n",
    "    cursor=conectar_a_base_de_datos()\n",
    "    a=[]\n",
    "    anio=str(anio)\n",
    "    p=0\n",
    "    if plataforma == \"amazon\":\n",
    "        p = 1\n",
    "    elif plataforma == \"disney\":\n",
    "        p = 2\n",
    "    elif plataforma == \"hulu\":\n",
    "        p = 3\n",
    "    elif plataforma == \"netflix\":\n",
    "        p = 4\n",
    "    else:\n",
    "        \"Inserte: amazon, disney, hulu o netflix\"\n",
    "    p=str(p)\n",
    "    query=\"select Id_Plataform, cast, count(*) as Cantidad \\\n",
    "    from dfcast \\\n",
    "    where Id_plataform = '\"+p+\"' and Id_Producción like '\"+anio+\"%' \\\n",
    "    group by cast \\\n",
    "    having cast !='' \\\n",
    "    order by 3 desc \\\n",
    "    limit 1\"\n",
    "    cursor.execute(query)\n",
    "    for dato in cursor:\n",
    "        a.append(dato)\n",
    "    \n",
    "    return a"
   ]
  },
  {
   "cell_type": "code",
   "execution_count": 2,
   "metadata": {},
   "outputs": [
    {
     "data": {
      "text/plain": [
       "[(3, 'The House That Jack Built', 2018, 151, 'min')]"
      ]
     },
     "execution_count": 2,
     "metadata": {},
     "output_type": "execute_result"
    }
   ],
   "source": [
    "max(2018,\"hulu\",\"min\")"
   ]
  },
  {
   "cell_type": "code",
   "execution_count": 4,
   "metadata": {},
   "outputs": [
    {
     "data": {
      "text/plain": [
       "[(4, 'Movie', 6131), (4, 'TV Show', 2676)]"
      ]
     },
     "execution_count": 4,
     "metadata": {},
     "output_type": "execute_result"
    }
   ],
   "source": [
    "cant(\"netflix\")"
   ]
  },
  {
   "cell_type": "code",
   "execution_count": 14,
   "metadata": {},
   "outputs": [
    {
     "data": {
      "text/plain": [
       "[(1, 'Comedy', 2099)]"
      ]
     },
     "execution_count": 14,
     "metadata": {},
     "output_type": "execute_result"
    }
   ],
   "source": [
    "gen(\"comedy\")"
   ]
  },
  {
   "cell_type": "code",
   "execution_count": 16,
   "metadata": {},
   "outputs": [
    {
     "data": {
      "text/plain": [
       "[(4, 'Andrea Libman', 8)]"
      ]
     },
     "execution_count": 16,
     "metadata": {},
     "output_type": "execute_result"
    }
   ],
   "source": [
    "act(\"netflix\",2018)"
   ]
  }
 ],
 "metadata": {
  "kernelspec": {
   "display_name": "Python 3.10.5 64-bit",
   "language": "python",
   "name": "python3"
  },
  "language_info": {
   "codemirror_mode": {
    "name": "ipython",
    "version": 3
   },
   "file_extension": ".py",
   "mimetype": "text/x-python",
   "name": "python",
   "nbconvert_exporter": "python",
   "pygments_lexer": "ipython3",
   "version": "3.10.5 (tags/v3.10.5:f377153, Jun  6 2022, 16:14:13) [MSC v.1929 64 bit (AMD64)]"
  },
  "orig_nbformat": 4,
  "vscode": {
   "interpreter": {
    "hash": "5c0aa7e6415dbcf7e4c1e39a56e3474aa103db52234d7bc08498ee9b5c21aa17"
   }
  }
 },
 "nbformat": 4,
 "nbformat_minor": 2
}
